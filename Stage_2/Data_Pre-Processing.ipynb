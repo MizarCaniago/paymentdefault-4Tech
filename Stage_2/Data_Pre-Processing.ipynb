{
 "cells": [
  {
   "cell_type": "markdown",
   "id": "249e8b64-834a-49fd-86fc-fae722e84570",
   "metadata": {},
   "source": [
    "# Data Pre-Processing"
   ]
  },
  {
   "cell_type": "markdown",
   "id": "adbb9eb4-d9ff-4315-b2c9-12e7405fb272",
   "metadata": {},
   "source": [
    "## Handling Missing Value & Duplicated Data"
   ]
  },
  {
   "cell_type": "code",
   "execution_count": null,
   "id": "a9aa1fcd-161e-4640-881e-4fa6c34c8b1d",
   "metadata": {},
   "outputs": [],
   "source": []
  },
  {
   "cell_type": "markdown",
   "id": "09de0b33-220d-4004-b58f-515876c13d7e",
   "metadata": {},
   "source": [
    "## Handling Outliers"
   ]
  },
  {
   "cell_type": "code",
   "execution_count": 6,
   "id": "d3cc5b1d-41dd-4429-a152-d59b1080112d",
   "metadata": {},
   "outputs": [],
   "source": []
  },
  {
   "cell_type": "code",
   "execution_count": null,
   "id": "4ae26c79-7a4b-4348-8549-b07eee5c9fae",
   "metadata": {},
   "outputs": [],
   "source": []
  },
  {
   "cell_type": "markdown",
   "id": "6aff8b07-01b1-499f-9a76-aa375edf44ff",
   "metadata": {},
   "source": [
    "## Feature transformation"
   ]
  },
  {
   "cell_type": "code",
   "execution_count": 3,
   "id": "fbfc6fab-eaa3-4c32-b788-c34b8f8c0898",
   "metadata": {},
   "outputs": [],
   "source": []
  },
  {
   "cell_type": "code",
   "execution_count": null,
   "id": "45b278fd-e314-4e35-b468-a25af997a92b",
   "metadata": {},
   "outputs": [],
   "source": []
  },
  {
   "cell_type": "markdown",
   "id": "cd8cda46-4079-4433-a32a-158d34d75fe9",
   "metadata": {},
   "source": [
    "## Feature encoding"
   ]
  },
  {
   "cell_type": "code",
   "execution_count": 4,
   "id": "c59fd4b7-9ae1-470c-9c6d-de97d452312e",
   "metadata": {},
   "outputs": [],
   "source": []
  },
  {
   "cell_type": "code",
   "execution_count": null,
   "id": "16d9e0d7-a98e-4595-bb0f-c422c041dac6",
   "metadata": {},
   "outputs": [],
   "source": []
  },
  {
   "cell_type": "markdown",
   "id": "674e918a-f420-45bd-86cd-41e20b431dd1",
   "metadata": {},
   "source": [
    "## Handle class imbalance"
   ]
  },
  {
   "cell_type": "code",
   "execution_count": 5,
   "id": "63ab413d-4ce2-4283-b793-751f0fa21f83",
   "metadata": {},
   "outputs": [],
   "source": []
  },
  {
   "cell_type": "code",
   "execution_count": null,
   "id": "12f07a79-77c5-4e59-836e-0fdf75e1eb72",
   "metadata": {},
   "outputs": [],
   "source": []
  }
 ],
 "metadata": {
  "kernelspec": {
   "display_name": "Python 3 (ipykernel)",
   "language": "python",
   "name": "python3"
  },
  "language_info": {
   "codemirror_mode": {
    "name": "ipython",
    "version": 3
   },
   "file_extension": ".py",
   "mimetype": "text/x-python",
   "name": "python",
   "nbconvert_exporter": "python",
   "pygments_lexer": "ipython3",
   "version": "3.9.12"
  }
 },
 "nbformat": 4,
 "nbformat_minor": 5
}
